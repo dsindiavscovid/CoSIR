{
 "cells": [
  {
   "cell_type": "code",
   "execution_count": null,
   "metadata": {
    "collapsed": true
   },
   "outputs": [],
   "source": [
    "import pandas as pd\n",
    "import matplotlib.pyplot as plt\n",
    "import matplotlib.transforms as transforms"
   ]
  },
  {
   "cell_type": "code",
   "execution_count": null,
   "metadata": {
    "collapsed": true
   },
   "outputs": [],
   "source": [
    "data = pd.read_csv('data_cosir_1.csv')"
   ]
  },
  {
   "cell_type": "code",
   "execution_count": null,
   "metadata": {},
   "outputs": [],
   "source": [
    "data"
   ]
  },
  {
   "cell_type": "code",
   "execution_count": null,
   "metadata": {
    "collapsed": true
   },
   "outputs": [],
   "source": [
    "x = ['time']\n",
    "y = data.columns[1:]\n",
    "l = 500"
   ]
  },
  {
   "cell_type": "code",
   "execution_count": null,
   "metadata": {},
   "outputs": [],
   "source": [
    "%matplotlib inline\n",
    "fig, ax = plt.subplots(figsize=(10,10))\n",
    "plt.yscale('log')\n",
    "plt.ylim(top=1e8,bottom=1)\n",
    "plt.xlim(left=0, right=500)\n",
    "plt.tick_params(axis='y', which='minor', left=False, right=False)\n",
    "\n",
    "# Istar*gamma = 273283.551\n",
    "\n",
    "plt.hlines(y=273283, xmin=0, xmax=500, linestyles='dotted')\n",
    "plt.axvline(x=187, ls=':', color='black')\n",
    "\n",
    "trans = transforms.blended_transform_factory(\n",
    "    ax.get_yticklabels()[0].get_transform(), ax.transData)\n",
    "ax.text(0, 273283, 'gamma I*', color=\"black\", transform=trans, \n",
    "        ha=\"right\", va=\"center\")\n",
    "\n",
    "trans = transforms.blended_transform_factory(\n",
    "    ax.get_xticklabels()[0].get_transform(), ax.transData)\n",
    "\n",
    "ax.plot(data[x].iloc[:l], data['Real'].iloc[:l], '-', label='Real', color='orange')\n",
    "\n",
    "ax.plot(data[x].iloc[:l], data['Constant Beta'].iloc[:l], label='Constant beta', \n",
    "        lw=2, ls='--', color='grey')\n",
    "\n",
    "ax.plot(data[x].iloc[:l], data['Dynamic Intervention R = 0.5'].iloc[:l], label='Dynamic Intervention R0=0.5', \n",
    "        ls='-.', color='dodgerblue')\n",
    "ax.plot(data[x].iloc[:l], data['Dynamic Intervention R = 0.8'].iloc[:l], label='Dynamic Intervention R0=0.8', \n",
    "        ls='-.', color='lightskyblue')\n",
    "\n",
    "ax.plot(data[x].iloc[:l], data['CoSIR'].iloc[:l], '-', lw='2', alpha=0.7, label='CoSIR', color='forestgreen')\n",
    "ax.plot(data[x].iloc[:l], data['CoSIR Approx'].iloc[:l], '-', lw='2', label='CoSIR Approximate', color='yellowgreen')\n",
    "\n",
    "# ax.plot(data[x].iloc[:l], data['CoSIR Approx'].iloc[:l], '-', lw='2', label='CoSIR Approximate', color='lightsalmon')\n",
    "# ax.plot(data[x].iloc[:l], data['CoSIR'].iloc[:l], '-', lw='2', alpha=0.7, label='CoSIR', color='firebrick')\n",
    "\n",
    "plt.legend()\n",
    "plt.savefig('cosir.png')"
   ]
  },
  {
   "cell_type": "code",
   "execution_count": null,
   "metadata": {
    "collapsed": true
   },
   "outputs": [],
   "source": []
  }
 ],
 "metadata": {
  "kernelspec": {
   "display_name": "Python 3",
   "language": "python",
   "name": "python3"
  },
  "language_info": {
   "codemirror_mode": {
    "name": "ipython",
    "version": 3
   },
   "file_extension": ".py",
   "mimetype": "text/x-python",
   "name": "python",
   "nbconvert_exporter": "python",
   "pygments_lexer": "ipython3",
   "version": "3.7.3"
  }
 },
 "nbformat": 4,
 "nbformat_minor": 2
}
